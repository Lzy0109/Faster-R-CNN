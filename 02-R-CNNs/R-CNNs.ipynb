{
 "nbformat": 4,
 "nbformat_minor": 0,
 "metadata": {
  "colab": {
   "name": "02-R-CNNs.ipynb",
   "provenance": [],
   "collapsed_sections": [],
   "authorship_tag": "ABX9TyM1VOBEp5IeKsgUiy0eIv3R"
  },
  "kernelspec": {
   "name": "python3",
   "display_name": "Python 3"
  },
  "language_info": {
   "name": "python"
  }
 },
 "cells": [
  {
   "cell_type": "markdown",
   "source": [
    "# R-CNN：两阶段目标检测算法"
   ],
   "metadata": {
    "id": "H0I-RcyYGqlB"
   }
  },
  {
   "cell_type": "markdown",
   "source": [
    "![](assert/r-cnn.png)"
   ],
   "metadata": {
    "id": "8Xcd3RHCLOI8"
   }
  },
  {
   "cell_type": "markdown",
   "source": [
    "### 运行过程\n",
    "\n",
    "\n",
    "*   步骤一：输入图片。\n",
    "*   步骤二：候选区域选取，一张图片提取1-2k个候选区域。（Selective Search）\n",
    "*   步骤三：对于**每一个候选区域（Region Proposal），** 归一化成227\\*227，（图像会变形）。**逐一**使用CNN模型抽取一个4096维特征。\n",
    "*   步骤四：使用SVM进行标注分类，修正候选框位置。\n",
    "*   步骤五：对于SVM分好类的Region Proposal做边框回归，用Bounding box回归值校正原来的建议窗口，生成预测窗口坐标。\n",
    "\n",
    "\n",
    "\n"
   ],
   "metadata": {
    "id": "bHxv4AurLSGY"
   }
  },
  {
   "cell_type": "markdown",
   "source": [
    "### 缺陷\n",
    "\n",
    "\n",
    "*   多阶段训练，繁琐。\n",
    "*   耗时，磁盘空间占用大：生成Region Proposal。（步骤二）\n",
    "*   速度慢。\n",
    "\n",
    "\n",
    "\n"
   ],
   "metadata": {
    "id": "lNgaTxoSVig4"
   }
  },
  {
   "cell_type": "markdown",
   "source": [
    "### Fast-R-CNN：R-CNN的改进"
   ],
   "metadata": {
    "id": "oCl93TsvWcc2"
   }
  },
  {
   "cell_type": "markdown",
   "source": [
    "![](assert/fast-r-cnn.png)"
   ],
   "metadata": {
    "id": "fFLXqZg0bCqY"
   }
  },
  {
   "cell_type": "markdown",
   "source": [
    "特点\n",
    "*   将整张图片输入CNN提取特征。\n",
    "*   仍用selective research提取region proposal。\n",
    "*   将region proposal映射到CNN的最后一层的feature map。\n",
    "*   CNN最后一层加入**ROI pooling层**，使每个region proposal生成固定尺寸的feature map。\n",
    "*   利用Softmax Loss(探测分类概率) 和Smooth L1 Loss(探测边框回归)对分类概率和边框回归(Bounding box regression)联合训练。"
   ],
   "metadata": {
    "id": "AwLKGGI7bI6J"
   }
  },
  {
   "cell_type": "markdown",
   "source": [
    "### ROI Pooling：简化版SSP\n",
    "\n",
    "\n",
    "## SSP\n",
    "\n",
    "空间金字塔池化，对于输入图片提取不同维度的特征，然后拼接成一个起来。"
   ],
   "metadata": {
    "id": "czWX-p-siviU"
   }
  },
  {
   "cell_type": "markdown",
   "source": [
    "![](assert/ssp.png)"
   ],
   "metadata": {
    "id": "TNgiOdU1j5bx"
   }
  },
  {
   "cell_type": "markdown",
   "source": [
    "## ROI pooling\n",
    "\n",
    "一个Region Proposal，均匀分割成n*m块，输出最大值。不管锚框多大，总输出nm个值。（类似最大池化）"
   ],
   "metadata": {
    "id": "MzjwUrFTVBef"
   }
  },
  {
   "cell_type": "markdown",
   "source": [
    "![](assert/ROI pooling.png)"
   ],
   "metadata": {
    "id": "HcueSxtcZAz8"
   }
  },
  {
   "cell_type": "markdown",
   "source": [
    "### 运行过程\n",
    "\n",
    "*   步骤一：使用CNN抽取特征，生成feature map。\n",
    "*   步骤二：在feature map上选取region proposal。（Selective Research）\n",
    "*   步骤三：使用ROI pooling对region proposal生成固定长度的特征。\n",
    "*   步骤四：由一个全连接层做预测。（Category prediction and Bounding box prediction）"
   ],
   "metadata": {
    "id": "k7QiQ-AOZ1d2"
   }
  },
  {
   "cell_type": "markdown",
   "source": [
    "### 对比R-CNN\n",
    "R-CNN：先选取region proposal再进行抽取特征。\n",
    "\n",
    "Fast-R-CNN：先抽取特征再选取region proposal。"
   ],
   "metadata": {
    "id": "lWq11MZRbrHq"
   }
  },
  {
   "cell_type": "markdown",
   "source": [
    "## 再改进：Faster-R-CNN\n",
    "\n",
    "使用**RPN**一个网络代替Selective Research。\n",
    "\n"
   ],
   "metadata": {
    "id": "IGbBn9sTeWH9"
   }
  },
  {
   "cell_type": "markdown",
   "source": [
    "![](assert/faster-r-cnn.png)"
   ],
   "metadata": {
    "id": "QKGzg8TtfbNb"
   }
  },
  {
   "cell_type": "markdown",
   "source": [
    "### Region Proposal Network\n",
    "\n",
    "构成：卷积层，CNN基础网络，提取特征得到feature map。\n",
    "\n",
    "线路一：对生成的anchor box做二分类。（判断 positive/negative region proposal）\n",
    "\n",
    "线路二：初步的bounding box regression，输出比较精确的ROIs。"
   ],
   "metadata": {
    "id": "_QFXjbFef81t",
    "pycharm": {
     "name": "#%% md\n"
    }
   }
  }
 ]
}